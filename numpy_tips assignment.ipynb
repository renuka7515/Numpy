{
 "cells": [
  {
   "cell_type": "code",
   "execution_count": 2,
   "id": "4f4c812a",
   "metadata": {},
   "outputs": [],
   "source": [
    "import numpy as np"
   ]
  },
  {
   "cell_type": "code",
   "execution_count": 3,
   "id": "93676e1e",
   "metadata": {},
   "outputs": [],
   "source": [
    "ar=np.genfromtxt(r\"C:\\Users\\India\\Downloads\\tipsf.csv\",dtype=object,delimiter=\",\",skip_header=1)"
   ]
  },
  {
   "cell_type": "code",
   "execution_count": 4,
   "id": "ff7ede4a",
   "metadata": {},
   "outputs": [
    {
     "data": {
      "text/plain": [
       "array([[b'0', b'16.99', b'1.01', ..., b'1', b'0', b'2'],\n",
       "       [b'1', b'10.34', b'1.66', ..., b'1', b'0', b'3'],\n",
       "       [b'2', b'21.01', b'3.5', ..., b'1', b'0', b'3'],\n",
       "       ...,\n",
       "       [b'241', b'22.67', b'2.0', ..., b'0', b'0', b'2'],\n",
       "       [b'242', b'17.82', b'1.75', ..., b'0', b'0', b'2'],\n",
       "       [b'243', b'18.78', b'3.0', ..., b'2', b'0', b'2']], dtype=object)"
      ]
     },
     "execution_count": 4,
     "metadata": {},
     "output_type": "execute_result"
    }
   ],
   "source": [
    "ar"
   ]
  },
  {
   "cell_type": "markdown",
   "id": "97ed958d",
   "metadata": {},
   "source": [
    "1. What is the total bill value?"
   ]
  },
  {
   "cell_type": "code",
   "execution_count": 12,
   "id": "6d550b5c",
   "metadata": {},
   "outputs": [],
   "source": [
    "total=np.sum(ar,dtype=float,axis=0)"
   ]
  },
  {
   "cell_type": "code",
   "execution_count": 13,
   "id": "2c198d7a",
   "metadata": {},
   "outputs": [
    {
     "data": {
      "text/plain": [
       "array([29646.  ,  4827.77,   731.58,   157.  ,    93.  ,   257.  ,\n",
       "          68.  ,   627.  ])"
      ]
     },
     "execution_count": 13,
     "metadata": {},
     "output_type": "execute_result"
    }
   ],
   "source": [
    "total"
   ]
  },
  {
   "cell_type": "code",
   "execution_count": 16,
   "id": "43557c6c",
   "metadata": {},
   "outputs": [
    {
     "name": "stdout",
     "output_type": "stream",
     "text": [
      "Total bill value is 4827.770000000001\n"
     ]
    }
   ],
   "source": [
    "total_bill_value=total[1]\n",
    "print(\"Total bill value is\",total_bill_value)"
   ]
  },
  {
   "cell_type": "markdown",
   "id": "78fb2d24",
   "metadata": {},
   "source": [
    "2. What is the total tip value?"
   ]
  },
  {
   "cell_type": "code",
   "execution_count": 17,
   "id": "348e0a12",
   "metadata": {},
   "outputs": [
    {
     "name": "stdout",
     "output_type": "stream",
     "text": [
      "Total tip value is 731.58\n"
     ]
    }
   ],
   "source": [
    "total_tip_value=total[2]\n",
    "print(\"Total tip value is\",total_tip_value)"
   ]
  },
  {
   "cell_type": "markdown",
   "id": "32e378ef",
   "metadata": {},
   "source": [
    "3. Count how many sundays,saturdays,thursdays and fridays are there?"
   ]
  },
  {
   "cell_type": "code",
   "execution_count": 54,
   "id": "477ea922",
   "metadata": {},
   "outputs": [
    {
     "name": "stdout",
     "output_type": "stream",
     "text": [
      "Sundays are 76\n",
      "Saturdays are 87\n",
      "Thursdays are 62\n",
      "Fridays are 19\n"
     ]
    }
   ],
   "source": [
    "leng=np.shape(ar)[0] \n",
    "count_sun=0\n",
    "count_sat=0\n",
    "count_thur=0\n",
    "count_fri=0\n",
    "for x in range(leng):\n",
    "    if int(ar[x,5])==0:\n",
    "        count_sat+=1\n",
    "    elif int(ar[x,5])==1:\n",
    "        count_sun+=1\n",
    "    elif int(ar[x,5])==2:\n",
    "        count_thur+=1\n",
    "    elif int(ar[x,5])==3:\n",
    "        count_fri+=1\n",
    "    else:\n",
    "        continue\n",
    "print(\"Sundays are {}\\nSaturdays are {}\\nThursdays are {}\\nFridays are {}\".format(count_sun,count_sat,count_thur,count_fri))"
   ]
  },
  {
   "cell_type": "markdown",
   "id": "05d89151",
   "metadata": {},
   "source": [
    "4. How many smokers are there?"
   ]
  },
  {
   "cell_type": "code",
   "execution_count": 52,
   "id": "e9687450",
   "metadata": {},
   "outputs": [
    {
     "name": "stdout",
     "output_type": "stream",
     "text": [
      "93 smokers are there\n"
     ]
    }
   ],
   "source": [
    "leng=np.shape(ar)[0]\n",
    "count_smokers=0\n",
    "for x in range(leng):\n",
    "    if int(ar[x,4])==1:\n",
    "        count_smokers+=1\n",
    "print(count_smokers,\"smokers are there\")"
   ]
  },
  {
   "cell_type": "markdown",
   "id": "69366726",
   "metadata": {},
   "source": [
    "5. what is the avg tip given by the female and male?"
   ]
  },
  {
   "cell_type": "code",
   "execution_count": 55,
   "id": "c7df69a1",
   "metadata": {},
   "outputs": [
    {
     "name": "stdout",
     "output_type": "stream",
     "text": [
      "Average tip given by female is 2.833448275862069\n",
      "Average tip given by male is 3.0896178343949052\n"
     ]
    }
   ],
   "source": [
    "leng=np.shape(ar)[0]\n",
    "m_tip=0\n",
    "f_tip=0\n",
    "female=0\n",
    "for x in range(leng):\n",
    "    if int(ar[x,3])==0:\n",
    "        female+=1\n",
    "        f_tip+=float(ar[x,2])\n",
    "    else:\n",
    "        m_tip+=float(ar[x,2])\n",
    "        \n",
    "avg_f_tip=f_tip/female\n",
    "avg_m_tip=m_tip/(leng-female)\n",
    "\n",
    "print(\"Average tip given by female is {}\\nAverage tip given by male is {}\".format(avg_f_tip,avg_m_tip))"
   ]
  },
  {
   "cell_type": "markdown",
   "id": "23af9fe4",
   "metadata": {},
   "source": [
    "6. How much amount have been spent by female and male?"
   ]
  },
  {
   "cell_type": "code",
   "execution_count": 57,
   "id": "bc022a48",
   "metadata": {},
   "outputs": [
    {
     "name": "stdout",
     "output_type": "stream",
     "text": [
      "Amount spent by female is 1817.4600000000005\n",
      "Amount spent by male is 3741.8900000000017\n"
     ]
    }
   ],
   "source": [
    "leng=np.shape(ar)[0]\n",
    "f_amount_spent=0\n",
    "m_amount_spent=0\n",
    "for x in range(leng):\n",
    "    if int(ar[x,3])==0:\n",
    "        f_amount_spent+=float(ar[x,1])+float(ar[x,2])\n",
    "    else:\n",
    "        m_amount_spent+=float(ar[x,1])+float(ar[x,2])\n",
    "        \n",
    "print(\"Amount spent by female is {}\\nAmount spent by male is {}\".format( f_amount_spent, m_amount_spent))"
   ]
  },
  {
   "cell_type": "markdown",
   "id": "888eaa11",
   "metadata": {},
   "source": [
    "7. What is the min and max tip given?"
   ]
  },
  {
   "cell_type": "code",
   "execution_count": 64,
   "id": "01590553",
   "metadata": {},
   "outputs": [
    {
     "name": "stdout",
     "output_type": "stream",
     "text": [
      "The minimum tip given is 1.0\n",
      "The maximum tip given is 9.0\n"
     ]
    }
   ],
   "source": [
    "\n",
    "    m=float(np.min(ar[:,2]))\n",
    "    n=float(np.max(ar[:,2]))\n",
    "    \n",
    "print(\"The minimum tip given is {}\\nThe maximum tip given is {}\".format(m,n))"
   ]
  },
  {
   "cell_type": "markdown",
   "id": "44f3b5c0",
   "metadata": {},
   "source": [
    "8. How many male and females are going for dinner and lunch?"
   ]
  },
  {
   "cell_type": "code",
   "execution_count": 66,
   "id": "9c482a6b",
   "metadata": {},
   "outputs": [
    {
     "name": "stdout",
     "output_type": "stream",
     "text": [
      "52 Females going for dinner\n",
      "35 Females going for lunch\n",
      "124 Males going for dinner\n",
      "33 Males going for lunch\n"
     ]
    }
   ],
   "source": [
    "leng=np.shape(ar)[0]\n",
    "f_dinner=0\n",
    "m_dinner=0\n",
    "f_lunch=0\n",
    "m_lunch=0\n",
    "for x in range(leng):\n",
    "    if int(ar[x,3])==0 and int(ar[x,6])==0:\n",
    "        f_dinner+=1\n",
    "    elif int(ar[x,3])==1 and int(ar[x,6])==0:\n",
    "        m_dinner+=1\n",
    "    elif int(ar[x,3])==0 and int(ar[x,6])==1:\n",
    "        f_lunch+=1\n",
    "    elif int(ar[x,3])==1 and int(ar[x,6])==1:\n",
    "        m_lunch+=1\n",
    "    else:\n",
    "        continue\n",
    "print(\"{} Females going for dinner\\n{} Females going for lunch\\n{} Males going for dinner\\n{} Males going for lunch\".format(f_dinner,f_lunch,m_dinner,m_lunch))\n",
    "\n"
   ]
  },
  {
   "cell_type": "markdown",
   "id": "11944ea5",
   "metadata": {},
   "source": [
    "9. Find out the avg size?"
   ]
  },
  {
   "cell_type": "code",
   "execution_count": 76,
   "id": "dff185b0",
   "metadata": {},
   "outputs": [
    {
     "name": "stdout",
     "output_type": "stream",
     "text": [
      "average size is 2.569672131147541\n"
     ]
    }
   ],
   "source": [
    "avg_size=np.mean(ar,dtype=float,axis=0)[7]\n",
    "print(\"average size is {}\".format(avg_size))"
   ]
  },
  {
   "cell_type": "markdown",
   "id": "1d25f82a",
   "metadata": {},
   "source": [
    "10. How many male and female smokers are there?"
   ]
  },
  {
   "cell_type": "code",
   "execution_count": 86,
   "id": "5d98a4b2",
   "metadata": {},
   "outputs": [
    {
     "name": "stdout",
     "output_type": "stream",
     "text": [
      "33 Female smokers are there.\n",
      "60 Male smokers are there.\n"
     ]
    }
   ],
   "source": [
    "leng=np.shape(ar)[0]\n",
    "f_smokers=0\n",
    "m_smokers=0\n",
    "for x in range(leng):\n",
    "    if int(ar[x,4])==1:\n",
    "        if int(ar[x,3])==0:\n",
    "            f_smokers+=1\n",
    "        else:\n",
    "            m_smokers+=1\n",
    "    else:\n",
    "        continue\n",
    "\n",
    "print(\"{} Female smokers are there.\\n{} Male smokers are there.\".format(f_smokers,m_smokers))"
   ]
  },
  {
   "cell_type": "code",
   "execution_count": null,
   "id": "cc0c0eee",
   "metadata": {},
   "outputs": [],
   "source": []
  }
 ],
 "metadata": {
  "kernelspec": {
   "display_name": "Python 3 (ipykernel)",
   "language": "python",
   "name": "python3"
  },
  "language_info": {
   "codemirror_mode": {
    "name": "ipython",
    "version": 3
   },
   "file_extension": ".py",
   "mimetype": "text/x-python",
   "name": "python",
   "nbconvert_exporter": "python",
   "pygments_lexer": "ipython3",
   "version": "3.9.12"
  }
 },
 "nbformat": 4,
 "nbformat_minor": 5
}
